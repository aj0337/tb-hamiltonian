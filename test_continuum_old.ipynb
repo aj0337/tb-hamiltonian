{
 "cells": [
  {
   "cell_type": "code",
   "execution_count": 30,
   "metadata": {},
   "outputs": [],
   "source": [
    "import tb_hamiltonian.continuum.old as TBHam\n",
    "\n",
    "inputs = dict(\n",
    "    bond_length=1.425,\n",
    "    interlayer_hopping=0.4,\n",
    "    superlattice_potential_periodicity=500,\n",
    "    superlattice_potential_amplitude=0.005,\n",
    "    gate_bias=0,\n",
    "    layer_potential_ratio=0.3,\n",
    "    nearest_neighbor_order=1,\n",
    ")\n",
    "\n",
    "model = TBHam.GrapheneContinuumModel(**inputs)"
   ]
  },
  {
   "cell_type": "code",
   "execution_count": 31,
   "metadata": {},
   "outputs": [],
   "source": [
    "import numpy as np\n",
    "\n",
    "# Generate high-symmetry points in the mini Brillouin zone (BZ)\n",
    "b1, b2 = model.Qn[0], model.Qn[1]\n",
    "\n",
    "high_sym_points = {\n",
    "    \"Γ\": np.array([0.0, 0.0]),\n",
    "    \"M\": b1 / 2,\n",
    "    \"K\": (b1 + b2) / 3,\n",
    "}\n",
    "\n",
    "Gamma = np.array([0.0, 0.0])\n",
    "M = b1 / 2\n",
    "K = (b1 + b2) / 3\n",
    "\n",
    "path = \"Γ K M Γ\"\n",
    "path_points = [high_sym_points[k] for k in path.split()]\n",
    "kpath, k_point_indices = TBHam.interpolate_path(path_points, total_points=100)\n",
    "eigenvalues, _ = TBHam.compute_eigenstuff(model.H_total_K, kpath)\n",
    "\n",
    "nbands = eigenvalues.shape[1]\n",
    "mid_band = int(nbands / 2)\n",
    "EF = (np.min(eigenvalues[:, mid_band]) + np.max(eigenvalues[:, mid_band - 1])) / 2"
   ]
  },
  {
   "cell_type": "code",
   "execution_count": 32,
   "metadata": {},
   "outputs": [],
   "source": [
    "from tb_hamiltonian.utils import BandStructure\n",
    "\n",
    "bs = BandStructure(\n",
    "    high_sym_points=high_sym_points,\n",
    "    path=path,\n",
    "    distances=[*range(len(eigenvalues))],\n",
    "    eigenvalues=eigenvalues,\n",
    "    high_sym_indices=k_point_indices,\n",
    "    e_fermi=EF,\n",
    ")"
   ]
  },
  {
   "cell_type": "code",
   "execution_count": null,
   "metadata": {},
   "outputs": [],
   "source": [
    "bs.plot(\n",
    "    fig_params={\n",
    "        \"figsize\": (6, 6),\n",
    "        \"ylim\": (-0.02, 0.02),\n",
    "    },\n",
    "    plot_params={\"color\": \"black\"},\n",
    ")"
   ]
  }
 ],
 "metadata": {
  "kernelspec": {
   "display_name": "tbh",
   "language": "python",
   "name": "python3"
  },
  "language_info": {
   "codemirror_mode": {
    "name": "ipython",
    "version": 3
   },
   "file_extension": ".py",
   "mimetype": "text/x-python",
   "name": "python",
   "nbconvert_exporter": "python",
   "pygments_lexer": "ipython3",
   "version": "3.10.14"
  }
 },
 "nbformat": 4,
 "nbformat_minor": 2
}
