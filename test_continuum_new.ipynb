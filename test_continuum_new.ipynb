{
 "cells": [
  {
   "cell_type": "code",
   "execution_count": 27,
   "metadata": {},
   "outputs": [],
   "source": [
    "import numpy as np\n",
    "\n",
    "import tb_hamiltonian.continuum.new as TBHam\n",
    "\n",
    "model = TBHam.BLGContinuumModel()"
   ]
  },
  {
   "cell_type": "code",
   "execution_count": 28,
   "metadata": {},
   "outputs": [],
   "source": [
    "def decompose_and_keep_remainder(P, b1, b2):\n",
    "    # Create a matrix B using b1 and b2 as columns\n",
    "    B = np.column_stack((b1, b2))\n",
    "\n",
    "    # Solve for m1 and m2 (not necessarily integers)\n",
    "    coeffs = np.linalg.solve(B, P)\n",
    "\n",
    "    # Round m1 and m2 to the nearest integers\n",
    "    m1 = int(round(coeffs[0]))\n",
    "    m2 = int(round(coeffs[1]))\n",
    "\n",
    "    # Compute the remainder by subtracting the integer combination of b1 and b2 from P\n",
    "    rest = P - (m1 * b1 + m2 * b2)\n",
    "\n",
    "    # Return only the remainder\n",
    "    return rest"
   ]
  },
  {
   "cell_type": "code",
   "execution_count": 29,
   "metadata": {},
   "outputs": [],
   "source": [
    "L = 500\n",
    "t1 = 2.7\n",
    "tp = 0.4\n",
    "V0 = 0\n",
    "VSL = 0.005\n",
    "alpha = 0.3\n",
    "\n",
    "b1 = model.b1G / np.floor(2 * L / 3 / model.bond_length)\n",
    "b2 = model.b2G / np.floor(2 * L / 3 / model.bond_length)\n",
    "\n",
    "KG = (model.b1G - model.b2G) / 3\n",
    "\n",
    "Qn = TBHam.Qn(b1)\n",
    "Q_vectors = TBHam.Q_concentric(b1, b2, model.b1G, model.b2G, max_val=4)\n",
    "\n",
    "\n",
    "def H2D_KG(k):\n",
    "    return model.H_folded(k + KG, t1, tp, V0, VSL, alpha, Q_vectors, Qn)\n",
    "\n",
    "\n",
    "K_new = decompose_and_keep_remainder(KG, b1, b2)\n",
    "\n",
    "high_sym_points_K = {\n",
    "    \"Γ\": np.array([0.0, 0.0]) - K_new,\n",
    "    \"M\": b1 / 2 - K_new,\n",
    "    \"K\": (b1 - b2) / 3 - K_new,\n",
    "}\n",
    "\n",
    "path = \"Γ K M Γ\"\n",
    "path_points_K = [high_sym_points_K[k] for k in path.split()]\n",
    "kpath_K, k_point_indices = TBHam.interpolate_path(path_points_K, total_points=200)"
   ]
  },
  {
   "cell_type": "code",
   "execution_count": 30,
   "metadata": {},
   "outputs": [],
   "source": [
    "eigenvalues_K, _ = TBHam.compute_eigenstuff(H2D_KG, kpath_K)"
   ]
  },
  {
   "cell_type": "code",
   "execution_count": 31,
   "metadata": {},
   "outputs": [],
   "source": [
    "KpG = -KG  # Define K'G as the negative of KG\n",
    "\n",
    "def H2D_KpG(k):\n",
    "    return model.H_folded(k + KpG, t1, tp, V0, VSL, alpha, Q_vectors, Qn)\n",
    "\n",
    "Kp_new = -K_new\n",
    "\n",
    "high_sym_points_Kp = {\n",
    "    \"Γ\": np.array([0.0, 0.0]) - Kp_new,\n",
    "    \"M\": b1 / 2 - Kp_new,\n",
    "    \"K\": (b1 - b2) / 3 - Kp_new,\n",
    "}\n",
    "\n",
    "# Define paths and interpolate\n",
    "path_points_Kp = [high_sym_points_Kp[k] for k in path.split()]\n",
    "\n",
    "kpath_Kp, _ = TBHam.interpolate_path(path_points_Kp, total_points=200)\n"
   ]
  },
  {
   "cell_type": "code",
   "execution_count": 32,
   "metadata": {},
   "outputs": [],
   "source": [
    "eigenvalues_Kp, _ = TBHam.compute_eigenstuff(H2D_KpG, kpath_Kp)\n"
   ]
  },
  {
   "cell_type": "code",
   "execution_count": 33,
   "metadata": {},
   "outputs": [],
   "source": [
    "# Combine and sort eigenvalues\n",
    "eigenvalues_combined = np.hstack((eigenvalues_K, eigenvalues_Kp))\n",
    "eigenvalues_sorted = np.sort(eigenvalues_combined, axis=1)"
   ]
  },
  {
   "cell_type": "code",
   "execution_count": 34,
   "metadata": {},
   "outputs": [],
   "source": [
    "nbands = eigenvalues_K.shape[1]\n",
    "mid_band = int(nbands / 2)\n",
    "EF = (np.min(eigenvalues_K[:, mid_band]) + np.max(eigenvalues_K[:, mid_band - 1])) / 2"
   ]
  },
  {
   "cell_type": "code",
   "execution_count": 35,
   "metadata": {},
   "outputs": [],
   "source": [
    "from tb_hamiltonian.utils import BandStructure\n",
    "\n",
    "bs = BandStructure(\n",
    "    high_sym_points=high_sym_points_K,\n",
    "    path=path,\n",
    "    distances=[*range(len(eigenvalues_K))],\n",
    "    eigenvalues=eigenvalues_sorted,\n",
    "    high_sym_indices=k_point_indices,\n",
    "    e_fermi=EF,\n",
    ")"
   ]
  },
  {
   "cell_type": "code",
   "execution_count": null,
   "metadata": {},
   "outputs": [],
   "source": [
    "bs.plot(\n",
    "    fig_params={\n",
    "        \"figsize\": (6, 6),\n",
    "        \"ylim\": (-0.02, 0.02),\n",
    "    },\n",
    "    plot_params={\"color\": \"black\"},\n",
    ")"
   ]
  }
 ],
 "metadata": {
  "kernelspec": {
   "display_name": "tbham",
   "language": "python",
   "name": "python3"
  },
  "language_info": {
   "codemirror_mode": {
    "name": "ipython",
    "version": 3
   },
   "file_extension": ".py",
   "mimetype": "text/x-python",
   "name": "python",
   "nbconvert_exporter": "python",
   "pygments_lexer": "ipython3",
   "version": "3.11.9"
  }
 },
 "nbformat": 4,
 "nbformat_minor": 2
}
