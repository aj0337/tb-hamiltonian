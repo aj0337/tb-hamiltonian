{
 "cells": [
  {
   "cell_type": "code",
   "execution_count": 1,
   "metadata": {},
   "outputs": [],
   "source": [
    "import numpy as np\n",
    "\n",
    "import tb_hamiltonian.continuum.new as TBHam\n",
    "\n",
    "model = TBHam.BLGContinuumModel()"
   ]
  },
  {
   "cell_type": "code",
   "execution_count": 2,
   "metadata": {},
   "outputs": [],
   "source": [
    "def decompose_and_keep_remainder(P, b1, b2):\n",
    "    # Create a matrix B using b1 and b2 as columns\n",
    "    B = np.column_stack((b1, b2))\n",
    "\n",
    "    # Solve for m1 and m2 (not necessarily integers)\n",
    "    coeffs = np.linalg.solve(B, P)\n",
    "\n",
    "    # Round m1 and m2 to the nearest integers\n",
    "    m1 = int(round(coeffs[0]))\n",
    "    m2 = int(round(coeffs[1]))\n",
    "\n",
    "    # Compute the remainder by subtracting the integer combination of b1 and b2 from P\n",
    "    rest = P - (m1 * b1 + m2 * b2)\n",
    "\n",
    "    # Return only the remainder\n",
    "    return rest"
   ]
  },
  {
   "cell_type": "code",
   "execution_count": null,
   "metadata": {},
   "outputs": [],
   "source": [
    "model.bond_length"
   ]
  },
  {
   "cell_type": "code",
   "execution_count": 9,
   "metadata": {},
   "outputs": [],
   "source": [
    "L = 500\n",
    "t1 = 2.7\n",
    "tp = 0.4\n",
    "V0 = 0\n",
    "VSL = 0.005\n",
    "alpha = 0.3\n",
    "\n",
    "b1 = model.b1G / np.floor(2 * L / 3 / model.bond_length)\n",
    "b2 = model.b2G / np.floor(2 * L / 3 / model.bond_length)\n",
    "\n",
    "KG = (model.b1G - model.b2G) / 3\n",
    "\n",
    "Qn = TBHam.Qn(b1)\n",
    "Q_vectors = TBHam.Q_concentric(b1, b2, model.b1G, model.b2G, max_val=3)\n",
    "\n",
    "\n",
    "def H2D_KG(k):\n",
    "    return model.H_folded(k + KG, t1, tp, V0, VSL, alpha, Q_vectors, Qn)\n",
    "\n",
    "\n",
    "K_new = decompose_and_keep_remainder(KG, b1, b2)\n",
    "\n",
    "high_sym_points = {\n",
    "    \"Γ\": np.array([0.0, 0.0]) - K_new,\n",
    "    \"M\": b1 / 2 - K_new,\n",
    "    \"K\": (b1 - b2) / 3 - K_new,\n",
    "}\n",
    "\n",
    "path = \"Γ K M Γ\"\n",
    "path_points = [high_sym_points[k] for k in path.split()]\n",
    "kpath, k_point_indices = TBHam.interpolate_path(path_points, total_points=200)"
   ]
  },
  {
   "cell_type": "code",
   "execution_count": 10,
   "metadata": {},
   "outputs": [],
   "source": [
    "eigenvalues, _ = TBHam.compute_eigenstuff(H2D_KG, kpath)"
   ]
  },
  {
   "cell_type": "code",
   "execution_count": 11,
   "metadata": {},
   "outputs": [],
   "source": [
    "nbands = eigenvalues.shape[1]\n",
    "mid_band = int(nbands / 2)\n",
    "EF = (np.min(eigenvalues[:, mid_band]) + np.max(eigenvalues[:, mid_band - 1])) / 2"
   ]
  },
  {
   "cell_type": "code",
   "execution_count": 12,
   "metadata": {},
   "outputs": [],
   "source": [
    "from tb_hamiltonian.utils import BandStructure\n",
    "\n",
    "bs = BandStructure(\n",
    "    high_sym_points=high_sym_points,\n",
    "    path=path,\n",
    "    distances=[*range(len(eigenvalues))],\n",
    "    eigenvalues=eigenvalues,\n",
    "    high_sym_indices=k_point_indices,\n",
    "    e_fermi=EF,\n",
    ")"
   ]
  },
  {
   "cell_type": "code",
   "execution_count": null,
   "metadata": {},
   "outputs": [],
   "source": [
    "bs.plot(\n",
    "    fig_params={\n",
    "        \"figsize\": (6, 6),\n",
    "        \"ylim\": (-0.02, 0.02),\n",
    "    },\n",
    "    plot_params={\"color\": \"black\"},\n",
    ")"
   ]
  },
  {
   "cell_type": "code",
   "execution_count": null,
   "metadata": {},
   "outputs": [],
   "source": []
  }
 ],
 "metadata": {
  "kernelspec": {
   "display_name": "tbham",
   "language": "python",
   "name": "python3"
  },
  "language_info": {
   "codemirror_mode": {
    "name": "ipython",
    "version": 3
   },
   "file_extension": ".py",
   "mimetype": "text/x-python",
   "name": "python",
   "nbconvert_exporter": "python",
   "pygments_lexer": "ipython3",
   "version": "3.11.9"
  }
 },
 "nbformat": 4,
 "nbformat_minor": 2
}
