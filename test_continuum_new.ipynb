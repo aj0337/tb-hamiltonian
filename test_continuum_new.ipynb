{
 "cells": [
  {
   "cell_type": "code",
   "execution_count": 22,
   "metadata": {},
   "outputs": [],
   "source": [
    "import numpy as np\n",
    "\n",
    "import tb_hamiltonian.continuum.new as TBHam\n",
    "\n",
    "model = TBHam.BLGContinuumModel()"
   ]
  },
  {
   "cell_type": "code",
   "execution_count": 32,
   "metadata": {},
   "outputs": [],
   "source": [
    "L = 500\n",
    "t1 = 2.7\n",
    "tp = 0.4\n",
    "V0 = 0\n",
    "VSL = 0.005\n",
    "alpha = 0.3\n",
    "\n",
    "b1 = model.b1G / np.floor(2 * L / 3 / model.bond_length)\n",
    "b2 = model.b2G / np.floor(2 * L / 3 / model.bond_length)\n",
    "\n",
    "KG = (model.b1G - model.b2G) / 3\n",
    "\n",
    "Qn = TBHam.Qn(b1)\n",
    "# b1, b2 = Qn[0], Qn[1]\n",
    "Q_vectors = TBHam.Q_concentric(b1, b2, model.b1G, model.b2G, max_val=3)\n",
    "\n",
    "\n",
    "def H2D_KG(k):\n",
    "    return model.H_folded(k + KG, t1, tp, V0, VSL, alpha, Q_vectors, Qn)\n",
    "\n",
    "\n",
    "high_sym_points = {\n",
    "    \"Γ\": np.array([0.0, 0.0]),\n",
    "    \"M\": b1 / 2,\n",
    "    \"K\": (b1 + b2) / 3,\n",
    "}\n",
    "\n",
    "\n",
    "path = \"Γ K M Γ\"\n",
    "path_points = [high_sym_points[k] for k in path.split()]\n",
    "kpath, k_point_indices = TBHam.interpolate_path(path_points, total_points=50)"
   ]
  },
  {
   "cell_type": "code",
   "execution_count": 35,
   "metadata": {},
   "outputs": [],
   "source": [
    "eigenvalues, _ = TBHam.compute_eigenstuff(H2D_KG, kpath)"
   ]
  },
  {
   "cell_type": "code",
   "execution_count": 36,
   "metadata": {},
   "outputs": [],
   "source": [
    "nbands = eigenvalues.shape[1]\n",
    "mid_band = int(nbands / 2)\n",
    "EF = (np.min(eigenvalues[:, mid_band]) + np.max(eigenvalues[:, mid_band - 1])) / 2"
   ]
  },
  {
   "cell_type": "code",
   "execution_count": 37,
   "metadata": {},
   "outputs": [],
   "source": [
    "from tb_hamiltonian.utils import BandStructure\n",
    "\n",
    "bs = BandStructure(\n",
    "    high_sym_points=high_sym_points,\n",
    "    path=path,\n",
    "    distances=[*range(len(eigenvalues))],\n",
    "    eigenvalues=eigenvalues,\n",
    "    high_sym_indices=k_point_indices,\n",
    "    e_fermi=EF,\n",
    ")"
   ]
  },
  {
   "cell_type": "code",
   "execution_count": null,
   "metadata": {},
   "outputs": [],
   "source": [
    "bs.plot(\n",
    "    fig_params={\n",
    "        \"figsize\": (6, 6),\n",
    "        \"ylim\": (-0.02, 0.02),\n",
    "    },\n",
    "    plot_params={\"color\": \"black\"},\n",
    ")"
   ]
  }
 ],
 "metadata": {
  "kernelspec": {
   "display_name": "tbh",
   "language": "python",
   "name": "python3"
  },
  "language_info": {
   "codemirror_mode": {
    "name": "ipython",
    "version": 3
   },
   "file_extension": ".py",
   "mimetype": "text/x-python",
   "name": "python",
   "nbconvert_exporter": "python",
   "pygments_lexer": "ipython3",
   "version": "3.10.14"
  }
 },
 "nbformat": 4,
 "nbformat_minor": 2
}
