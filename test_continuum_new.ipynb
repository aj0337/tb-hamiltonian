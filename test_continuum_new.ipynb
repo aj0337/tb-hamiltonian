{
 "cells": [
  {
   "cell_type": "code",
   "execution_count": 1,
   "metadata": {},
   "outputs": [],
   "source": [
    "import numpy as np\n",
    "\n",
    "import tb_hamiltonian.continuum.new as TBHam\n",
    "\n",
    "model = TBHam.BLGContinuumModel(\n",
    "        nearest_neighbor_hopping=2.7,\n",
    "        bond_length=1.42,\n",
    "        interlayer_hopping=0.27,\n",
    "        superlattice_potential_periodicity=500,\n",
    "        superlattice_potential_amplitude=20e-3,\n",
    "        gate_bias=24e-3,\n",
    "        layer_potential_ratio=0.3,\n",
    "        concentric_order=3,\n",
    ")"
   ]
  },
  {
   "cell_type": "code",
   "execution_count": 2,
   "metadata": {},
   "outputs": [],
   "source": [
    "# High symmetry points\n",
    "Γ = np.array([0.0, 0.0])\n",
    "M = model.b1 / 2\n",
    "K = (model.b1 - model.b2) / 3"
   ]
  },
  {
   "cell_type": "code",
   "execution_count": 4,
   "metadata": {},
   "outputs": [],
   "source": [
    "K_new = model.decompose_and_keep_remainder(model.KG)\n",
    "\n",
    "high_sym_points_K = {\n",
    "    \"Γ\": Γ - K_new,\n",
    "    \"M\": M - K_new,\n",
    "    \"K\": K - K_new,\n",
    "}\n",
    "\n",
    "path = \"Γ K M Γ\"\n",
    "path_points_K = [high_sym_points_K[k] for k in path.split()]\n",
    "kpath_K, k_point_indices = TBHam.interpolate_path(path_points_K, total_points=200)"
   ]
  },
  {
   "cell_type": "code",
   "execution_count": 5,
   "metadata": {},
   "outputs": [],
   "source": [
    "eigenvalues_K, _ = TBHam.compute_eigenstuff(model.H2D_KG, kpath_K)"
   ]
  },
  {
   "cell_type": "code",
   "execution_count": 6,
   "metadata": {},
   "outputs": [],
   "source": [
    "high_sym_points_Kp = {\n",
    "    \"Γ\": Γ + K_new,\n",
    "    \"M\": M + K_new,\n",
    "    \"K\": K + K_new,\n",
    "}\n",
    "\n",
    "# Define paths and interpolate\n",
    "path_points_Kp = [high_sym_points_Kp[k] for k in path.split()]\n",
    "\n",
    "kpath_Kp, _ = TBHam.interpolate_path(path_points_Kp, total_points=200)"
   ]
  },
  {
   "cell_type": "code",
   "execution_count": 7,
   "metadata": {},
   "outputs": [],
   "source": [
    "eigenvalues_Kp, _ = TBHam.compute_eigenstuff(model.H2D_KpG, kpath_Kp)"
   ]
  },
  {
   "cell_type": "code",
   "execution_count": 8,
   "metadata": {},
   "outputs": [],
   "source": [
    "# Combine and sort eigenvalues\n",
    "eigenvalues_combined = np.hstack((eigenvalues_K, eigenvalues_Kp))\n",
    "eigenvalues_sorted = np.sort(eigenvalues_combined, axis=1)"
   ]
  },
  {
   "cell_type": "code",
   "execution_count": 9,
   "metadata": {},
   "outputs": [],
   "source": [
    "nbands = eigenvalues_K.shape[1]\n",
    "mid_band = int(nbands / 2)\n",
    "EF = (np.min(eigenvalues_K[:, mid_band]) + np.max(eigenvalues_K[:, mid_band - 1])) / 2"
   ]
  },
  {
   "cell_type": "code",
   "execution_count": 10,
   "metadata": {},
   "outputs": [],
   "source": [
    "from tb_hamiltonian.utils import BandStructure\n",
    "\n",
    "bs = BandStructure(\n",
    "    high_sym_points=high_sym_points_K,\n",
    "    path=path,\n",
    "    distances=[*range(len(eigenvalues_K))],\n",
    "    eigenvalues=eigenvalues_sorted,\n",
    "    high_sym_indices=k_point_indices,\n",
    "    e_fermi=EF,\n",
    ")"
   ]
  },
  {
   "cell_type": "code",
   "execution_count": null,
   "metadata": {},
   "outputs": [],
   "source": [
    "bs.plot(\n",
    "    fig_params={\n",
    "        \"figsize\": (6, 6),\n",
    "        \"ylim\": (-0.045, 0.045),\n",
    "    },\n",
    "    plot_params={\"color\": \"black\"},\n",
    ")"
   ]
  },
  {
   "cell_type": "code",
   "execution_count": null,
   "metadata": {},
   "outputs": [],
   "source": [
    "import matplotlib.pyplot as plt\n",
    "\n",
    "# Initial plot with all bands in black\n",
    "fig_params = {\n",
    "    \"figsize\": (6, 6),\n",
    "    \"ylim\": (-0.045, 0.045),\n",
    "}\n",
    "plot_params = {\"color\": \"black\"}\n",
    "\n",
    "# Plot all bands initially in black\n",
    "ax = bs.plot(\n",
    "    fig_params=fig_params,\n",
    "    plot_params=plot_params,\n",
    ")\n",
    "\n",
    "# Re-plot the mid band on top of the existing plot in red\n",
    "ax.plot(bs.distances, bs.eigenvalues[:, 2*mid_band], color=\"red\")\n",
    "\n",
    "plt.show()\n"
   ]
  },
  {
   "cell_type": "code",
   "execution_count": null,
   "metadata": {},
   "outputs": [],
   "source": []
  }
 ],
 "metadata": {
  "kernelspec": {
   "display_name": "tbham",
   "language": "python",
   "name": "python3"
  },
  "language_info": {
   "codemirror_mode": {
    "name": "ipython",
    "version": 3
   },
   "file_extension": ".py",
   "mimetype": "text/x-python",
   "name": "python",
   "nbconvert_exporter": "python",
   "pygments_lexer": "ipython3",
   "version": "3.11.9"
  }
 },
 "nbformat": 4,
 "nbformat_minor": 2
}
