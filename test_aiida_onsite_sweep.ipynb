{
 "cells": [
  {
   "cell_type": "code",
   "execution_count": null,
   "metadata": {},
   "outputs": [],
   "source": [
    "import sys\n",
    "from pathlib import Path\n",
    "\n",
    "from aiida import load_profile\n",
    "from ase.io import read\n",
    "from tb_hamiltonian.workflows import sweep_onsite_parameters"
   ]
  },
  {
   "cell_type": "code",
   "execution_count": null,
   "metadata": {},
   "outputs": [],
   "source": [
    "sys.tracebacklimit = None"
   ]
  },
  {
   "cell_type": "code",
   "execution_count": null,
   "metadata": {},
   "outputs": [],
   "source": [
    "_ = load_profile()"
   ]
  },
  {
   "cell_type": "markdown",
   "metadata": {},
   "source": [
    "# Define parameters"
   ]
  },
  {
   "cell_type": "code",
   "execution_count": null,
   "metadata": {},
   "outputs": [],
   "source": [
    "# Control parameters\n",
    "debug = False\n",
    "use_mpi = False\n",
    "\n",
    "# Initial structure\n",
    "structure_label = \"BLG\"\n",
    "input_path = Path(\"examples/BLG/AB/rectangular\")\n",
    "initial_structure = read(input_path / \"POSCAR\", format=\"vasp\")\n",
    "\n",
    "# Supercell\n",
    "nx = 1  # number of repetitions in x direction\n",
    "ny = 1  # number of repetitions in y direction\n",
    "nz = 1  # number of repetitions in z direction\n",
    "\n",
    "## Distances\n",
    "distances = [0.0, 1.425, 2.468, 2.850]\n",
    "\n",
    "# Hamiltonian parameters\n",
    "hopping_parameters = [0.0, -2.7, 0.0, -0.27]\n",
    "interlayer_coupling = 0.33\n",
    "nearest_neighbor = 1  # degree of nearest neighbors | don't use 0!\n",
    "\n",
    "band_params = {\n",
    "    \"high_sym_points\": {\n",
    "        \"Γ\": (0.00000, 0.00000, 0.00000),\n",
    "        \"P\": (0.00000, 0.33333, 0.00000),\n",
    "        \"X\": (0.00000, 0.50000, 0.00000),\n",
    "        \"W\": (0.50000, 0.50000, 0.00000),\n",
    "        \"Y\": (0.50000, 0.00000, 0.00000),\n",
    "    },\n",
    "    \"k_path\": \"Γ P X W Y Γ W\",\n",
    "    \"points_per_segment\": 100,\n",
    "    \"use_sparse_solver\": False,\n",
    "    \"sparse_solver_params\": {\"k\": 3, \"sigma\": 1e-8},\n",
    "    \"use_mpi\": use_mpi,\n",
    "    \"fig_filename\": \"bands.png\",\n",
    "}\n",
    "\n",
    "# Potential parameters\n",
    "sweep_params = {\n",
    "    \"onsite_term\": [],\n",
    "    \"potential_type\": [\"null\", \"kronig-penney\", \"sine\"],\n",
    "    \"alpha\": [[1.0, 0.3]],\n",
    "    \"potential_params\": {\n",
    "        \"amplitude\": [0.25, 0.5, 0.75],\n",
    "        \"width\": [],\n",
    "        \"height\": [],\n",
    "    },\n",
    "}"
   ]
  },
  {
   "cell_type": "code",
   "execution_count": null,
   "metadata": {},
   "outputs": [],
   "source": [
    "computer = \"localhost\"\n",
    "\n",
    "metadata = {\n",
    "    \"options\": {\n",
    "        # for more scheduler options, see https://aiida.readthedocs.io/projects/aiida-core/en/latest/topics/calculations/usage.html#options\n",
    "        \"prepend_text\": \"source $(conda info --base)/etc/profile.d/conda.sh && conda activate tbh\",\n",
    "    }\n",
    "}"
   ]
  },
  {
   "cell_type": "code",
   "execution_count": null,
   "metadata": {},
   "outputs": [],
   "source": [
    "wg = sweep_onsite_parameters(\n",
    "    structure_label,\n",
    "    initial_structure,\n",
    "    [nx, ny, nz],\n",
    "    distances,\n",
    "    nearest_neighbor,\n",
    "    hopping_parameters,\n",
    "    interlayer_coupling,\n",
    "    sweep_params,\n",
    "    band_params,\n",
    "    computer=computer,\n",
    "    metadata=metadata,\n",
    ")"
   ]
  },
  {
   "cell_type": "code",
   "execution_count": null,
   "metadata": {},
   "outputs": [],
   "source": [
    "wg.submit()"
   ]
  },
  {
   "cell_type": "code",
   "execution_count": null,
   "metadata": {},
   "outputs": [],
   "source": [
    "# ! verdi process status $wg.pk"
   ]
  },
  {
   "cell_type": "code",
   "execution_count": null,
   "metadata": {},
   "outputs": [],
   "source": [
    "# from aiida import orm\n",
    "\n",
    "# band_calculations = orm.QueryBuilder().append(\n",
    "#     orm.WorkChainNode,\n",
    "#     filters=orm.WorkChainNode.fields.pk == wg.pk,\n",
    "#     tag=\"wg\",\n",
    "# ).append(\n",
    "#     orm.CalcJobNode,\n",
    "#     filters=orm.CalcJobNode.fields.label.like(\"get_band_structure%\"),\n",
    "#     with_incoming=\"wg\",\n",
    "# ).all()\n",
    "\n",
    "# for calc, in band_calculations:\n",
    "#     print(calc.label)\n",
    "#     display(calc.outputs.fig.value)"
   ]
  }
 ],
 "metadata": {
  "kernelspec": {
   "display_name": "tbh",
   "language": "python",
   "name": "python3"
  },
  "language_info": {
   "codemirror_mode": {
    "name": "ipython",
    "version": 3
   },
   "file_extension": ".py",
   "mimetype": "text/x-python",
   "name": "python",
   "nbconvert_exporter": "python",
   "pygments_lexer": "ipython3",
   "version": "3.10.14"
  }
 },
 "nbformat": 4,
 "nbformat_minor": 2
}
