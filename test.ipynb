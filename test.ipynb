{
 "cells": [
  {
   "cell_type": "code",
   "execution_count": null,
   "metadata": {},
   "outputs": [],
   "source": [
    "import sys\n",
    "\n",
    "sys.tracebacklimit = None"
   ]
  },
  {
   "cell_type": "markdown",
   "metadata": {},
   "source": [
    "# Parameters & constants"
   ]
  },
  {
   "cell_type": "code",
   "execution_count": null,
   "metadata": {},
   "outputs": [],
   "source": [
    "from pathlib import Path\n",
    "\n",
    "import numpy as np\n",
    "\n",
    "lx = 50  # length in x direction (Å)\n",
    "ly = lx / np.sqrt(3)  # length in y direction (Å) keeping the b/a ratio\n",
    "lz = 10 # length in z direction (Å)\n",
    "nn = 1  # number of nearest neighbors | don't use 0!\n",
    "\n",
    "basepath = Path(f\"output/example/len_{lx}x{int(ly)}/nn_{nn}\")\n",
    "basepath.mkdir(parents=True, exist_ok=True)"
   ]
  },
  {
   "cell_type": "markdown",
   "metadata": {},
   "source": [
    "# Define structure"
   ]
  },
  {
   "cell_type": "code",
   "execution_count": null,
   "metadata": {},
   "outputs": [],
   "source": [
    "from tb_hamiltonian.utils import get_structure\n",
    "\n",
    "structure = get_structure(\n",
    "    unit_cell_filepath=Path(\"output/example/POSCAR\"),  # local unit cell file\n",
    "    lengths=(lx, ly, lz),\n",
    ")\n",
    "\n",
    "structure.info[\"label\"] = \"BLG\"  # will show up at top of Hamiltonian output file\n",
    "\n",
    "structure.write(basepath / \"POSCAR\", format=\"vasp\")"
   ]
  },
  {
   "cell_type": "markdown",
   "metadata": {},
   "source": [
    "# Compute H"
   ]
  },
  {
   "cell_type": "code",
   "execution_count": null,
   "metadata": {},
   "outputs": [],
   "source": [
    "from tb_hamiltonian import TightBindingHamiltonian\n",
    "\n",
    "H = TightBindingHamiltonian(\n",
    "    structure=structure,\n",
    "    nearest_neighbor=nn,\n",
    "    distances=(0.0, 1.425, 2.468, 2.850),\n",
    "    hopping_parameters=(0.0, -2.7, 0.0, -0.27),\n",
    "    interlayer_coupling=0.33,\n",
    ")\n",
    "\n",
    "H.build()"
   ]
  },
  {
   "cell_type": "markdown",
   "metadata": {},
   "source": [
    "# Apply onsite term"
   ]
  },
  {
   "cell_type": "code",
   "execution_count": null,
   "metadata": {},
   "outputs": [],
   "source": [
    "from tb_hamiltonian.potentials import PotentialFactory\n",
    "\n",
    "potential = PotentialFactory(\"triangular\")\n",
    "potential.params = {\n",
    "    \"amplitude\": 1.0,\n",
    "    \"width\": 1.0,\n",
    "    \"height\": 2.0,  # twice the width if maintaining non-standard unit cell b/a ratio\n",
    "}\n",
    "\n",
    "H.update_onsite_terms(\n",
    "    onsite_term=0.0,\n",
    "    potential=potential,\n",
    "    alpha=(1.0, 0.5),\n",
    ")\n",
    "\n",
    "path = (\n",
    "    basepath\n",
    "    / f\"{potential.name}\"\n",
    "    / f\"amplitude_{potential.params['amplitude']}\"\n",
    "    / f\"width_{potential.params['width']}\"\n",
    ")\n",
    "path.mkdir(parents=True, exist_ok=True)"
   ]
  },
  {
   "cell_type": "markdown",
   "metadata": {},
   "source": [
    "# Sanity checks\n"
   ]
  },
  {
   "cell_type": "code",
   "execution_count": null,
   "metadata": {},
   "outputs": [],
   "source": [
    "# H.onsite_count()"
   ]
  },
  {
   "cell_type": "code",
   "execution_count": null,
   "metadata": {},
   "outputs": [],
   "source": [
    "# H.interaction_counts()"
   ]
  },
  {
   "cell_type": "markdown",
   "metadata": {},
   "source": [
    "# Write H to file"
   ]
  },
  {
   "cell_type": "code",
   "execution_count": null,
   "metadata": {},
   "outputs": [],
   "source": [
    "H.write_to_file(path)"
   ]
  },
  {
   "cell_type": "markdown",
   "metadata": {},
   "source": [
    "# Plotting"
   ]
  },
  {
   "cell_type": "code",
   "execution_count": null,
   "metadata": {},
   "outputs": [],
   "source": [
    "# H.plot_matrix()"
   ]
  },
  {
   "cell_type": "code",
   "execution_count": null,
   "metadata": {},
   "outputs": [],
   "source": [
    "# H.plot_grid()"
   ]
  },
  {
   "cell_type": "code",
   "execution_count": null,
   "metadata": {},
   "outputs": [],
   "source": [
    "import matplotlib.pyplot as plt\n",
    "import numpy as np\n",
    "\n",
    "\n",
    "def apply_potential(params: dict, coordinates: np.ndarray) -> float:\n",
    "    amplitude = params.get(\"amplitude\", 1.0)\n",
    "    width = params.get(\"width\", 1.0)\n",
    "    height = params.get(\"height\", 1.0)\n",
    "    n = params.get(\"n\", 1)\n",
    "    m = params.get(\"m\", 1)\n",
    "    x, y, _ = coordinates\n",
    "    kx1 = 2 * np.pi * n / width\n",
    "    ky1 = 2 * np.pi * m / height  # factor of 2 works only if b/a ratio is maintained\n",
    "\n",
    "    return amplitude * (\n",
    "        np.cos(kx1 * x) + np.cos(kx1 / 2 * x + ky1 * y) + np.cos(kx1 / 2 * x - ky1 * y)\n",
    "    )\n",
    "\n",
    "\n",
    "frac = structure.get_scaled_positions()\n",
    "n = int(len(structure) // 2)\n",
    "x_frac = frac[:, 0]\n",
    "y_frac = frac[:, 1]\n",
    "z_frac = frac[:, 2]\n",
    "coords = np.array([x_frac, y_frac, z_frac]).T\n",
    "width = 0.25  # 0.1 | 0.125 | 0.25 | 0.5 | 1.0\n",
    "params = {\n",
    "    \"amplitude\": 1.0,\n",
    "    \"width\": width,\n",
    "    \"height\": width * 2,\n",
    "}\n",
    "V = np.array([apply_potential(params, c) for c in coords])\n",
    "\n",
    "plt.figure(figsize=(10, 6))\n",
    "\n",
    "# plot the potential\n",
    "x = np.linspace(0, 1, 100)\n",
    "y = np.linspace(0, 1, 100)\n",
    "X, Y = np.meshgrid(x, y)\n",
    "coords = np.array([X.flatten(), Y.flatten(), np.zeros_like(X.flatten())]).T\n",
    "Z = np.array([apply_potential(params, c) for c in coords]).reshape(X.shape)\n",
    "plt.contour(X, Y, Z, levels=250, cmap=\"rainbow\", alpha=0.1, zorder=0)\n",
    "\n",
    "# plot the bonds (slow!!!)\n",
    "# distances = np.sqrt(\n",
    "#     (x_frac[:n, np.newaxis] - x_frac[np.newaxis, :n]) ** 2\n",
    "#     + (y_frac[:n, np.newaxis] - y_frac[np.newaxis, :n]) ** 2\n",
    "# )\n",
    "# indices = np.where((distances <= 0.03) & (distances > 0))\n",
    "#\n",
    "# for i, j in zip(indices[0], indices[1]):\n",
    "#     plt.plot([x_frac[i], x_frac[j]], [y_frac[i], y_frac[j]], \"k-\", lw=0.5, zorder=1)\n",
    "\n",
    "# plot the atoms\n",
    "plt.scatter(x_frac[:n], y_frac[:n], s=10, c=V[:n], cmap=\"rainbow\", zorder=2)\n",
    "\n",
    "plt.show()"
   ]
  },
  {
   "cell_type": "code",
   "execution_count": null,
   "metadata": {},
   "outputs": [],
   "source": []
  }
 ],
 "metadata": {
  "kernelspec": {
   "display_name": "graphene",
   "language": "python",
   "name": "python3"
  },
  "language_info": {
   "codemirror_mode": {
    "name": "ipython",
    "version": 3
   },
   "file_extension": ".py",
   "mimetype": "text/x-python",
   "name": "python",
   "nbconvert_exporter": "python",
   "pygments_lexer": "ipython3",
   "version": "3.10.14"
  }
 },
 "nbformat": 4,
 "nbformat_minor": 2
}
