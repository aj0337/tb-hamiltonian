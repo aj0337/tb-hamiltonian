{
 "cells": [
  {
   "cell_type": "code",
   "execution_count": null,
   "metadata": {},
   "outputs": [],
   "source": [
    "import ase\n",
    "from ase.io import read\n",
    "import numpy as np"
   ]
  },
  {
   "cell_type": "code",
   "execution_count": null,
   "metadata": {},
   "outputs": [],
   "source": [
    "import sys\n",
    "\n",
    "sys.tracebacklimit = None"
   ]
  },
  {
   "cell_type": "markdown",
   "metadata": {},
   "source": [
    "# Utilities"
   ]
  },
  {
   "cell_type": "code",
   "execution_count": null,
   "metadata": {},
   "outputs": [],
   "source": [
    "def handle_PBC(\n",
    "    ng: int,\n",
    "    g: int,\n",
    "    n: int,\n",
    "    R: int,\n",
    "    coords_j: np.ndarray,\n",
    "    v: np.ndarray,\n",
    ") -> tuple[np.ndarray, int]:\n",
    "    \"\"\"Adjust atom coordinates w.r.t the periodic boundary\n",
    "    conditions in the supplied direction.\n",
    "\n",
    "    Parameters\n",
    "    ----------\n",
    "    `ng` : `int`\n",
    "        number of grid cells in a given direction\n",
    "    `g` : `int`\n",
    "        index of grid cell in a given direction\n",
    "    `n` : `int`\n",
    "        index of neighboring grid cell in a given direction\n",
    "    `R` : `int`\n",
    "        R vector component in a given direction\n",
    "    `coords_j` : `np.ndarray`\n",
    "        coordinates of atom j\n",
    "    `v` : `np.ndarray`\n",
    "        lattice vector in a given direction\n",
    "\n",
    "    Returns\n",
    "    -------\n",
    "    `tuple[np.ndarray, int]`\n",
    "        adjusted coordinates of atom j and R vector component\n",
    "    \"\"\"\n",
    "    if g == 0 and g + n < g and (g + n) % ng == ng - 1:\n",
    "        R -= 1\n",
    "        coords_j = coords_j - v\n",
    "    elif g == ng - 1 and g + n > g and (g + n) % ng == 0:\n",
    "        R += 1\n",
    "        coords_j = coords_j + v\n",
    "    return coords_j, R"
   ]
  },
  {
   "cell_type": "markdown",
   "metadata": {},
   "source": [
    "# Define structure"
   ]
  },
  {
   "cell_type": "code",
   "execution_count": null,
   "metadata": {},
   "outputs": [],
   "source": [
    "filename = \"\"  # local POSCAR file\n",
    "\n",
    "try:\n",
    "    poscar = read(filename, format=\"vasp\")\n",
    "except FileNotFoundError as err:\n",
    "    raise FileNotFoundError(f\"File {filename} not found\") from err\n",
    "\n",
    "\n",
    "super_cell = poscar.repeat((1, 1, 1))\n",
    "\n",
    "# sort by x, then by y\n",
    "super_cell = super_cell[\n",
    "    np.lexsort(\n",
    "        (\n",
    "            super_cell.positions[:, 0],\n",
    "            super_cell.positions[:, 1],\n",
    "            super_cell.positions[:, 2],\n",
    "        )\n",
    "    )\n",
    "]\n",
    "\n",
    "super_cell.write(\"non_standard_BLG_AB_supercell.vasp\", format=\"vasp\")\n",
    "\n",
    "natoms = len(super_cell)\n",
    "nlayers = 2\n",
    "natoms_per_layer = natoms // nlayers\n",
    "a, b, c = super_cell.cell.lengths()\n",
    "a_vec, b_vec, c_vec = super_cell.cell.array\n",
    "inter_layer_height = 0.5 * c"
   ]
  },
  {
   "cell_type": "markdown",
   "metadata": {},
   "source": [
    "# Define search grid"
   ]
  },
  {
   "cell_type": "code",
   "execution_count": null,
   "metadata": {},
   "outputs": [],
   "source": [
    "# define nearest neighbor distances\n",
    "distances = (0.0, 1.425, 2.468, 2.850)\n",
    "\n",
    "search_distance = distances[1]  # don't use 0!\n",
    "if search_distance == 0:\n",
    "    raise ValueError(\"search distance is zero; use distances index > 0\")\n",
    "\n",
    "# calculate the number of grid squares in each dimension\n",
    "ngx = int(np.ceil(a / search_distance)) - 1\n",
    "ngy = int(np.ceil(b / search_distance)) - 1\n",
    "ngx = 1 if ngx == 0 else ngx\n",
    "ngy = 1 if ngy == 0 else ngy\n",
    "\n",
    "# calculate adjusted grid cell size in each dimension to perfectly fit the cell\n",
    "gxs = a / ngx  # grid cell size in x\n",
    "gys = b / ngy  # grid cell size in y\n",
    "\n",
    "# create the grid, separated by layers\n",
    "grid = [[[] for _ in range(ngx)] for _ in range(ngy)]\n",
    "\n",
    "# assign atoms to grid cells\n",
    "atom: ase.Atom\n",
    "for ai, atom in enumerate(super_cell):\n",
    "    x, y, z = atom.position\n",
    "    gx = int(x / gxs)\n",
    "    gy = int(y / gys)\n",
    "    grid[gy][gx].append(ai)"
   ]
  },
  {
   "cell_type": "markdown",
   "metadata": {},
   "source": [
    "# Compute H"
   ]
  },
  {
   "cell_type": "code",
   "execution_count": null,
   "metadata": {},
   "outputs": [],
   "source": [
    "from scipy.sparse import lil_matrix\n",
    "\n",
    "from potentials import PotentialFactory\n",
    "\n",
    "potential = PotentialFactory(\"kronig-penney\")\n",
    "potential.amplitude = 1.0\n",
    "\n",
    "hopping_parameters = (0.0, -2.7, -0.8, -0.027)  # replace these\n",
    "interlayer_coupling = 0.33\n",
    "interlayer_alpha = (1.0, 0.5)\n",
    "threshold = search_distance + 0.1\n",
    "\n",
    "R = [np.array([j, i, 0]) for i in range(-1, 2) for j in range(-1, 2)]\n",
    "H = [lil_matrix((natoms, natoms)) for _ in range(len(R))]\n",
    "\n",
    "R_index_map = {\n",
    "    (-1, -1): 0,\n",
    "    (0, -1): 1,\n",
    "    (1, -1): 2,\n",
    "    (-1, 0): 3,\n",
    "    (0, 0): 4,\n",
    "    (1, 0): 5,\n",
    "    (-1, 1): 6,\n",
    "    (0, 1): 7,\n",
    "    (1, 1): 8,\n",
    "}"
   ]
  },
  {
   "cell_type": "code",
   "execution_count": null,
   "metadata": {},
   "outputs": [],
   "source": [
    "for gy in range(ngy):\n",
    "    for gx in range(ngx):\n",
    "        # consider only first nearest neighboring grid cells\n",
    "        for ny in range(-1, 2):\n",
    "            for nx in range(-1, 2):\n",
    "                # loop over atoms in the current grid cell\n",
    "                for ai in grid[gy][gx]:\n",
    "                    # define local grid indices\n",
    "                    lgy = (gy + ny) % ngy  # wrap around cell\n",
    "                    lgx = (gx + nx) % ngx  # wrap around cell\n",
    "\n",
    "                    # loop over atoms in the neighboring grid cell\n",
    "                    for aj in grid[lgy][lgx]:\n",
    "                        # H is symmetric, so we compute\n",
    "                        # only the upper triangular matrix\n",
    "                        if ai <= aj:\n",
    "                            coords_i = super_cell.positions[ai]\n",
    "                            coords_j = super_cell.positions[aj]\n",
    "\n",
    "                            # used later to derive the R index of H\n",
    "                            Rx, Ry = 0, 0\n",
    "\n",
    "                            if nx != 0:\n",
    "                                # handle boundary conditions in the x\n",
    "                                coords_j, Rx = handle_PBC(\n",
    "                                    ngx, gx, nx, Rx, coords_j, a_vec\n",
    "                                )\n",
    "\n",
    "                            if ny != 0:\n",
    "                                # handle boundary conditions in the y\n",
    "                                coords_j, Ry = handle_PBC(\n",
    "                                    ngy, gy, ny, Ry, coords_j, b_vec\n",
    "                                )\n",
    "\n",
    "                            v = coords_i - coords_j  # displacement vector\n",
    "\n",
    "                            # update H with hopping parameters\n",
    "                            # if ai-aj distance is within threshold\n",
    "                            d = np.round(np.abs(np.linalg.norm(v)), 3)\n",
    "                            if d < threshold:\n",
    "                                # pick hopping parameter based on distance\n",
    "                                for i, distance in enumerate(distances):\n",
    "                                    if np.isclose(d, distance):\n",
    "                                        hp = hopping_parameters[i]\n",
    "                                        break\n",
    "\n",
    "                                # on-site, i.e., ai == aj\n",
    "                                if i == 0:\n",
    "                                    frac_i = super_cell.get_scaled_positions()[ai]\n",
    "                                    j = 0 if frac_i[2] < 0.5 else 1\n",
    "                                    alpha = interlayer_alpha[j]\n",
    "                                    hp += alpha * potential(frac_i)\n",
    "\n",
    "                                Ri = R_index_map[(Rx, Ry)]\n",
    "                                H[Ri][ai, aj] = hp\n",
    "\n",
    "                                if i > 0:\n",
    "                                    Ri = R_index_map[(-Rx, -Ry)]\n",
    "                                    H[Ri][aj, ai] = hp\n",
    "\n",
    "                            # update H with interlayer coupling\n",
    "                            if (\n",
    "                                np.isclose(v[0], 0)\n",
    "                                and np.isclose(v[1], 0)\n",
    "                                and not np.isclose(v[2], 0)\n",
    "                            ):\n",
    "                                Ri = R_index_map[(0, 0)]\n",
    "                                H[Ri][ai, aj] = H[Ri][aj, ai] = interlayer_coupling"
   ]
  },
  {
   "cell_type": "markdown",
   "metadata": {},
   "source": [
    "# Write H to file"
   ]
  },
  {
   "cell_type": "code",
   "execution_count": null,
   "metadata": {},
   "outputs": [],
   "source": [
    "from collections import OrderedDict\n",
    "\n",
    "neighbor_count = OrderedDict.fromkeys(range(1, natoms + 1), 0)\n",
    "onsite_count = 0\n",
    "\n",
    "with open(\"hamiltonian.dat\", \"w\") as f:\n",
    "    # write banner\n",
    "\n",
    "    # write H\n",
    "    for i, r in enumerate(R):\n",
    "        Hcoo = H[i].tocoo()\n",
    "        for ai, aj, v in zip(Hcoo.row, Hcoo.col, Hcoo.data):\n",
    "            if ai != aj:\n",
    "                neighbor_count[int(ai + 1)] += 1\n",
    "            else:\n",
    "                onsite_count += 1\n",
    "            Rx, Ry, Rz = r\n",
    "            f.write(f\"{Rx:5d}{Ry:5d}{Rz:5d}{ai + 1:8d}{aj + 1:8d}{v:13.6f}{0:13.6f}\\n\")"
   ]
  },
  {
   "cell_type": "markdown",
   "metadata": {},
   "source": [
    "# Sanity checks\n"
   ]
  },
  {
   "cell_type": "markdown",
   "metadata": {},
   "source": [
    "Onsite count should be 0 or `natoms`"
   ]
  },
  {
   "cell_type": "code",
   "execution_count": null,
   "metadata": {},
   "outputs": [],
   "source": [
    "# onsite_count"
   ]
  },
  {
   "attachments": {
    "image.png": {
     "image/png": "[encoded data removed]"
    }
   },
   "cell_type": "markdown",
   "metadata": {},
   "source": [
    "Atoms should have **3** <strong style=\"color: orange\">1st</strong> + **6** <strong style=\"color: green\">2nd</strong> + **3** <strong style=\"color: purple\">3rd</strong> nearest neighbors + possibly **one** <strong style=\"color: red\">intelayer</strong>, so **4/10/13** max\n",
    "\n",
    "![image.png](attachment:image.png)\n"
   ]
  },
  {
   "cell_type": "code",
   "execution_count": null,
   "metadata": {},
   "outputs": [],
   "source": [
    "# for atom, count in neighbor_count.items():\n",
    "#     print(f'Atom {atom} has {count} neighbors')"
   ]
  },
  {
   "cell_type": "markdown",
   "metadata": {},
   "source": [
    "# Plotting"
   ]
  },
  {
   "cell_type": "code",
   "execution_count": null,
   "metadata": {},
   "outputs": [],
   "source": [
    "# %matplotlib widget"
   ]
  },
  {
   "cell_type": "markdown",
   "metadata": {},
   "source": [
    "### Plot H"
   ]
  },
  {
   "cell_type": "code",
   "execution_count": null,
   "metadata": {},
   "outputs": [],
   "source": [
    "# Hr = H[4].toarray()"
   ]
  },
  {
   "cell_type": "code",
   "execution_count": null,
   "metadata": {},
   "outputs": [],
   "source": [
    "# import matplotlib.pyplot as plt\n",
    "\n",
    "# start = 0\n",
    "# end = start + natoms\n",
    "# step = 10\n",
    "\n",
    "# plt.figure(figsize=(5, 5))\n",
    "# plt.imshow(Hr[start:end, start:end], cmap='inferno', interpolation='nearest')\n",
    "# plt.xticks(np.arange(start, end - start, step), np.arange(start, end, step) + 1)\n",
    "# plt.yticks(np.arange(start, end - start, step), np.arange(start, end, step) + 1)\n",
    "# plt.colorbar()\n",
    "# plt.show()"
   ]
  },
  {
   "cell_type": "markdown",
   "metadata": {},
   "source": [
    "### Plot grid"
   ]
  },
  {
   "cell_type": "code",
   "execution_count": null,
   "metadata": {},
   "outputs": [],
   "source": [
    "# # plot the grid\n",
    "# import matplotlib.pyplot as plt\n",
    "\n",
    "# fig, ax = plt.subplots(figsize=(5, 5))\n",
    "# for gi in range(ngx):\n",
    "#     for gj in range(ngy):\n",
    "#         ax.add_patch(\n",
    "#             plt.Rectangle(\n",
    "#                 (gi * gxs, gj * gys),\n",
    "#                 gxs,\n",
    "#                 gys,\n",
    "#                 fill=None,\n",
    "#                 edgecolor=\"black\",\n",
    "#             )\n",
    "#         )\n",
    "# ax.set_aspect(\"equal\")\n",
    "# ax.set_xlim(0, super_cell.cell.lengths()[0])\n",
    "# ax.set_ylim(0, super_cell.cell.lengths()[1])\n",
    "# ax.set_xticks(np.arange(0, super_cell.cell.lengths()[0], gxs))\n",
    "# ax.set_yticks(np.arange(0, super_cell.cell.lengths()[1], gys))\n",
    "\n",
    "# # plot the atoms\n",
    "# atom: ase.Atom\n",
    "# for atom in super_cell:\n",
    "#     x, y, z = atom.position\n",
    "#     if z < inter_layer_height:\n",
    "#         ax.plot(x, y, \"o\", color=\"blue\")\n",
    "#         ax.text(x, y - 0.1, atom.index, fontsize=12, ha='center', va='center')\n",
    "#     else:\n",
    "#         ax.plot(x + 0.05, y, \"o\", color=\"red\")\n",
    "#         ax.text(x, y + 0.1, atom.index, fontsize=12, ha='center', va='center')\n",
    "\n",
    "# plt.show()"
   ]
  }
 ],
 "metadata": {
  "kernelspec": {
   "display_name": "graphene",
   "language": "python",
   "name": "python3"
  },
  "language_info": {
   "codemirror_mode": {
    "name": "ipython",
    "version": 3
   },
   "file_extension": ".py",
   "mimetype": "text/x-python",
   "name": "python",
   "nbconvert_exporter": "python",
   "pygments_lexer": "ipython3",
   "version": "3.10.14"
  }
 },
 "nbformat": 4,
 "nbformat_minor": 2
}
