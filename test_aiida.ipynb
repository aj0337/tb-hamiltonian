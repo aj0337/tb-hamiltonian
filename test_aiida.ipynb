{
 "cells": [
  {
   "cell_type": "code",
   "execution_count": null,
   "metadata": {},
   "outputs": [],
   "source": [
    "import sys\n",
    "from pathlib import Path\n",
    "\n",
    "from aiida import load_profile\n",
    "from ase.io import read\n",
    "from tb_hamiltonian.workflows import compute_bands"
   ]
  },
  {
   "cell_type": "code",
   "execution_count": null,
   "metadata": {},
   "outputs": [],
   "source": [
    "sys.tracebacklimit = None"
   ]
  },
  {
   "cell_type": "code",
   "execution_count": null,
   "metadata": {},
   "outputs": [],
   "source": [
    "_ = load_profile()"
   ]
  },
  {
   "cell_type": "markdown",
   "metadata": {},
   "source": [
    "# Define parameters"
   ]
  },
  {
   "cell_type": "code",
   "execution_count": null,
   "metadata": {},
   "outputs": [],
   "source": [
    "# Control parameters\n",
    "debug = False\n",
    "use_mpi = False\n",
    "\n",
    "\n",
    "# Initial structure\n",
    "structure_label = \"BLG\"\n",
    "input_path = Path(\"examples/BLG/AB/rectangular\")\n",
    "initial_structure = read(input_path / \"POSCAR\", format=\"vasp\")\n",
    "\n",
    "# Distances\n",
    "distances = [0.0, 1.425, 2.468, 2.850]\n",
    "\n",
    "# Supercell\n",
    "nx = 1  # number of repetitions in x direction\n",
    "ny = 1  # number of repetitions in y direction\n",
    "nz = 1  # number of repetitions in z direction\n",
    "\n",
    "# Hamiltonian parameters\n",
    "hopping_parameters = [0.0, -2.7, 0.0, -0.27]\n",
    "interlayer_coupling = 0.33\n",
    "nearest_neighbor = 1  # degree of nearest neighbors | don't use 0!\n",
    "\n",
    "# Potential parameters\n",
    "alpha = [1.0, 0.5]\n",
    "onsite_term = 0.0\n",
    "potential_type = \"null\"\n",
    "potential_params = {\n",
    "    \"amplitude\": 1.0,\n",
    "    # \"width\": 0.5,\n",
    "    # \"height\": 0.5,\n",
    "}\n",
    "\n",
    "# Band structure parameters\n",
    "band_params = {\n",
    "    \"high_sym_points\": {\n",
    "        \"Γ\": (0.00000, 0.00000, 0.00000),\n",
    "        \"P\": (0.00000, 0.33333, 0.00000),\n",
    "        \"X\": (0.00000, 0.50000, 0.00000),\n",
    "        \"W\": (0.50000, 0.50000, 0.00000),\n",
    "        \"Y\": (0.50000, 0.00000, 0.00000),\n",
    "    },\n",
    "    \"k_path\": \"Γ P X W Y Γ W\",\n",
    "    \"points_per_segment\": 100,\n",
    "    \"use_sparse_solver\": False,\n",
    "    \"sparse_solver_params\": {\"k\": 3, \"sigma\": 1e-8},\n",
    "    \"use_mpi\": use_mpi,\n",
    "    \"fig_filename\": \"bands.png\",\n",
    "}"
   ]
  },
  {
   "cell_type": "code",
   "execution_count": null,
   "metadata": {},
   "outputs": [],
   "source": [
    "computer = \"localhost\"\n",
    "\n",
    "metadata = {\n",
    "    \"options\": {\n",
    "        # for more scheduler options, see https://aiida.readthedocs.io/projects/aiida-core/en/latest/topics/calculations/usage.html#options\n",
    "        \"prepend_text\": \"source $(conda info --base)/etc/profile.d/conda.sh && conda activate tbh\",\n",
    "    }\n",
    "}"
   ]
  },
  {
   "cell_type": "code",
   "execution_count": null,
   "metadata": {},
   "outputs": [],
   "source": [
    "wg = compute_bands(\n",
    "    structure_label,\n",
    "    initial_structure,\n",
    "    [nx, ny, nz],\n",
    "    distances,\n",
    "    nearest_neighbor,\n",
    "    hopping_parameters,\n",
    "    interlayer_coupling,\n",
    "    potential_type,\n",
    "    potential_params,\n",
    "    onsite_term,\n",
    "    alpha,\n",
    "    band_params,\n",
    "    computer=computer,\n",
    "    metadata=metadata,\n",
    ")"
   ]
  },
  {
   "cell_type": "code",
   "execution_count": null,
   "metadata": {},
   "outputs": [],
   "source": [
    "wg.submit()"
   ]
  },
  {
   "cell_type": "code",
   "execution_count": null,
   "metadata": {},
   "outputs": [],
   "source": [
    "# ! verdi process status $wg.pk"
   ]
  },
  {
   "cell_type": "code",
   "execution_count": null,
   "metadata": {},
   "outputs": [],
   "source": [
    "# from aiida.orm import load_node\n",
    "\n",
    "# wg_node = load_node(wg.pk)\n",
    "# while not wg_node.is_finished:\n",
    "#     continue\n",
    "# band_calculation = wg_node.called[-1]\n",
    "# band_calculation.outputs.fig.value"
   ]
  },
  {
   "cell_type": "code",
   "execution_count": null,
   "metadata": {},
   "outputs": [],
   "source": [
    "from aiida import orm\n",
    "\n",
    "wg = orm.load_node(1086)"
   ]
  },
  {
   "cell_type": "code",
   "execution_count": null,
   "metadata": {},
   "outputs": [],
   "source": []
  }
 ],
 "metadata": {
  "kernelspec": {
   "display_name": "tbh",
   "language": "python",
   "name": "python3"
  },
  "language_info": {
   "codemirror_mode": {
    "name": "ipython",
    "version": 3
   },
   "file_extension": ".py",
   "mimetype": "text/x-python",
   "name": "python",
   "nbconvert_exporter": "python",
   "pygments_lexer": "ipython3",
   "version": "3.10.14"
  }
 },
 "nbformat": 4,
 "nbformat_minor": 2
}
