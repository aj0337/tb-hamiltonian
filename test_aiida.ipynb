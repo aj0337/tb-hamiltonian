{
 "cells": [
  {
   "cell_type": "code",
   "execution_count": null,
   "metadata": {},
   "outputs": [],
   "source": [
    "import sys\n",
    "from pathlib import Path\n",
    "\n",
    "import numpy as np\n",
    "from aiida import load_profile\n",
    "from aiida_workgraph import WorkGraph\n",
    "\n",
    "import calculations"
   ]
  },
  {
   "cell_type": "code",
   "execution_count": null,
   "metadata": {},
   "outputs": [],
   "source": [
    "sys.tracebacklimit = None"
   ]
  },
  {
   "cell_type": "code",
   "execution_count": null,
   "metadata": {},
   "outputs": [],
   "source": [
    "_ = load_profile()"
   ]
  },
  {
   "cell_type": "markdown",
   "metadata": {},
   "source": [
    "# Define parameters"
   ]
  },
  {
   "cell_type": "code",
   "execution_count": null,
   "metadata": {},
   "outputs": [],
   "source": [
    "debug = False\n",
    "use_mpi = False\n",
    "\n",
    "nn = 1  # number of nearest neighbors | don't use 0!\n",
    "\n",
    "input_path = Path(\"output/BLG/AB/rectangular\")\n",
    "\n",
    "# Structure\n",
    "\n",
    "## lengths\n",
    "lx = 50  # length in x direction (Å)\n",
    "ly = lx / np.sqrt(3)  # length in y direction (Å) keeping the b/a ratio\n",
    "lz = 10  # length in z direction (Å)\n",
    "workdir = input_path / f\"len_{lx}x{int(ly)}/nn_{nn}\"\n",
    "\n",
    "## or, repetitions\n",
    "nx = 1  # number of repetitions in x direction\n",
    "ny = 1  # number of repetitions in y direction\n",
    "nz = 1  # number of repetitions in z direction\n",
    "workdir = input_path / f\"rep_{nx}x{ny}/nn_{nn}\"\n",
    "\n",
    "workdir.mkdir(parents=True, exist_ok=True)\n",
    "\n",
    "## distances\n",
    "distances = [0.0, 1.425, 2.468, 2.850]\n",
    "\n",
    "# Hamiltonian\n",
    "hopping_parameters = [0.0, -2.7, 0.0, -0.27]\n",
    "interlater_coupling = 0.33\n",
    "\n",
    "# potential\n",
    "alpha = [1.0, 0.5]\n",
    "onsite_term = 0.0\n",
    "potential_type = \"null\"\n",
    "potential_params = {\n",
    "    \"amplitude\": 1.0,\n",
    "    # \"width\": 0.5,\n",
    "    # \"height\": 0.5,\n",
    "}\n",
    "\n",
    "paths = {\n",
    "    \"input_path\": input_path.as_posix(),\n",
    "    \"output_path\": workdir.as_posix(),\n",
    "}\n",
    "\n",
    "band_params = {\n",
    "    \"high_sym_points\": {\n",
    "        \"Γ\": (0.00000, 0.00000, 0.00000),\n",
    "        \"P\": (0.00000, 0.33333, 0.00000),\n",
    "        \"X\": (0.00000, 0.50000, 0.00000),\n",
    "        \"W\": (0.50000, 0.50000, 0.00000),\n",
    "        \"Y\": (0.50000, 0.00000, 0.00000),\n",
    "    },\n",
    "    \"k_path\": \"Γ P X W Y Γ W\",\n",
    "    \"points_per_segment\": 100,\n",
    "    \"use_sparse_solver\": False,\n",
    "    \"sparse_solver_params\": {\"k\": 3, \"sigma\": 1e-8},\n",
    "    \"use_mpi\": use_mpi,\n",
    "    \"fig_filename\": \"bands.png\",\n",
    "}"
   ]
  },
  {
   "cell_type": "code",
   "execution_count": null,
   "metadata": {},
   "outputs": [],
   "source": [
    "wg = WorkGraph(\"2D_potential_band_structure\")\n",
    "wg.add_task(\n",
    "    calculations.define_structure,\n",
    "    name=\"define_structure\",\n",
    "    paths=paths,\n",
    "    repetitions=[nx, ny, nz],\n",
    ")\n",
    "wg.add_task(\n",
    "    calculations.build_hamiltonian,\n",
    "    name=\"build_hamiltonian\",\n",
    "    structure=wg.tasks[\"define_structure\"].outputs[\"result\"],\n",
    "    workdir=paths[\"output_path\"],\n",
    "    nearest_neighbor=nn,\n",
    "    distances=distances,\n",
    "    hopping_parameters=hopping_parameters,\n",
    "    interlater_coupling=interlater_coupling,\n",
    ")\n",
    "wg.add_task(\n",
    "    calculations.apply_onsite_term,\n",
    "    name=\"apply_onsite_term\",\n",
    "    H_file=wg.tasks[\"build_hamiltonian\"].outputs[\"result\"],\n",
    "    potential_type=potential_type,\n",
    "    potential_params=potential_params,\n",
    "    workdir=paths[\"output_path\"],\n",
    "    onsite_term=onsite_term,\n",
    "    alpha=alpha,\n",
    ")\n",
    "wg.add_task(\n",
    "    calculations.get_band_structure,\n",
    "    name=\"get_band_structure\",\n",
    "    H_file=wg.tasks[\"apply_onsite_term\"].outputs[\"H_file\"],\n",
    "    workdir=wg.tasks[\"apply_onsite_term\"].outputs[\"workdir\"],\n",
    "    band_params=band_params,\n",
    ")\n",
    "node = wg.run()"
   ]
  },
  {
   "cell_type": "code",
   "execution_count": null,
   "metadata": {},
   "outputs": [],
   "source": []
  }
 ],
 "metadata": {
  "kernelspec": {
   "display_name": "tbh",
   "language": "python",
   "name": "python3"
  },
  "language_info": {
   "codemirror_mode": {
    "name": "ipython",
    "version": 3
   },
   "file_extension": ".py",
   "mimetype": "text/x-python",
   "name": "python",
   "nbconvert_exporter": "python",
   "pygments_lexer": "ipython3",
   "version": "3.10.14"
  }
 },
 "nbformat": 4,
 "nbformat_minor": 2
}
