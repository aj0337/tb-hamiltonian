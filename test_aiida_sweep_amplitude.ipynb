{
 "cells": [
  {
   "cell_type": "code",
   "execution_count": null,
   "metadata": {},
   "outputs": [],
   "source": [
    "import sys\n",
    "from pathlib import Path\n",
    "\n",
    "import numpy as np\n",
    "from aiida import load_profile\n",
    "\n",
    "from workflows import sweep_potential_strength"
   ]
  },
  {
   "cell_type": "code",
   "execution_count": null,
   "metadata": {},
   "outputs": [],
   "source": [
    "sys.tracebacklimit = None"
   ]
  },
  {
   "cell_type": "code",
   "execution_count": null,
   "metadata": {},
   "outputs": [],
   "source": [
    "_ = load_profile()"
   ]
  },
  {
   "cell_type": "markdown",
   "metadata": {},
   "source": [
    "# Define parameters"
   ]
  },
  {
   "cell_type": "code",
   "execution_count": null,
   "metadata": {},
   "outputs": [],
   "source": [
    "debug = False\n",
    "use_mpi = False\n",
    "\n",
    "nearest_neighbor = 1  # number of nearest neighbors | don't use 0!\n",
    "\n",
    "input_path = Path(\"output/graphene/rectangular\")\n",
    "\n",
    "# Structure\n",
    "structure_label = \"graphene\"\n",
    "\n",
    "# repetitions\n",
    "nx = 24  # number of repetitions in x direction\n",
    "ny = 1  # number of repetitions in y direction\n",
    "nz = 1  # number of repetitions in z direction\n",
    "workdir = input_path / f\"rep_{nx}x{ny}/nn_{nearest_neighbor}\"\n",
    "\n",
    "workdir.mkdir(parents=True, exist_ok=True)\n",
    "\n",
    "## distances\n",
    "distances = [0.0, 1.425, 2.468, 2.850]\n",
    "\n",
    "# Hamiltonian\n",
    "hopping_parameters = [0.0, -2.7, 0.0, -0.27]\n",
    "interlayer_coupling = 0.33\n",
    "\n",
    "# potential\n",
    "alpha = [1.0,]\n",
    "onsite_term = 0.0\n",
    "potential_type = \"kronig-penney\"\n",
    "potential_params = {\"amplitudes\": [0.0, 0.1, 0.2, 0.3]}\n",
    "\n",
    "paths = {\n",
    "    \"input_path\": input_path.as_posix(),\n",
    "    \"output_path\": workdir.as_posix(),\n",
    "}\n",
    "\n",
    "band_params = {\n",
    "    \"high_sym_points\": {\n",
    "        \"A\": (-1.0000, 0.33700, 0.00000),\n",
    "        \"P\": (0.00000, 0.33700, 0.00000),\n",
    "        \"B\": (1.00000, 0.33700, 0.00000),\n",
    "    },\n",
    "    \"k_path\": \"A P B\",\n",
    "    \"points_per_segment\": 51,\n",
    "    \"use_sparse_solver\": False,\n",
    "    \"sparse_solver_params\": {\"k\": 3, \"sigma\": 1e-8},\n",
    "    \"use_mpi\": use_mpi,\n",
    "    \"fig_filename\": \"bands.png\",\n",
    "    \"fig_params\": {\"ylim\": (0, 0.4)},\n",
    "    \"mode\": \"scatter\",\n",
    "    \"plot_params\": {\"s\": 5, \"c\": \"k\"}\n",
    "}"
   ]
  },
  {
   "cell_type": "code",
   "execution_count": null,
   "metadata": {},
   "outputs": [],
   "source": [
    "wg = sweep_potential_strength(\n",
    "    structure_label,\n",
    "    paths,\n",
    "    [nx, ny, nz],\n",
    "    distances,\n",
    "    nearest_neighbor,\n",
    "    hopping_parameters,\n",
    "    interlayer_coupling,\n",
    "    potential_type,\n",
    "    potential_params,\n",
    "    onsite_term,\n",
    "    alpha,\n",
    "    band_params,\n",
    ")\n",
    "\n",
    "wg"
   ]
  }
 ],
 "metadata": {
  "kernelspec": {
   "display_name": "tbh",
   "language": "python",
   "name": "python3"
  },
  "language_info": {
   "codemirror_mode": {
    "name": "ipython",
    "version": 3
   },
   "file_extension": ".py",
   "mimetype": "text/x-python",
   "name": "python",
   "nbconvert_exporter": "python",
   "pygments_lexer": "ipython3",
   "version": "3.10.14"
  }
 },
 "nbformat": 4,
 "nbformat_minor": 2
}
